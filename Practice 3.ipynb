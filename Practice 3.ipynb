{
 "cells": [
  {
   "cell_type": "code",
   "execution_count": 1,
   "metadata": {},
   "outputs": [],
   "source": [
    "## Write a function that takes a color as an argument. \n",
    "## If color if red, function should print Today’s winner is red team\n",
    "## If color if blue, function should print Today’s winner is blue team\n",
    "## If color if green, function should print Today’s winner is green team\n",
    "## For any other colors, function should print No game today\n",
    "\n",
    "\n",
    "def argument(color):\n",
    "    if color == 'red':\n",
    "        print('Today’s winner is red team')\n",
    "    elif color =='blue':\n",
    "        print('Today’s winner is blue team')\n",
    "    elif color == 'green':\n",
    "        print('Today’s winner is green team')\n",
    "    else:\n",
    "        print('No game today')\n",
    "\n",
    "\n",
    "\n",
    "        "
   ]
  },
  {
   "cell_type": "code",
   "execution_count": 3,
   "metadata": {},
   "outputs": [
    {
     "name": "stdout",
     "output_type": "stream",
     "text": [
      "Today’s winner is green team\n"
     ]
    }
   ],
   "source": [
    "argument('green')"
   ]
  },
  {
   "cell_type": "code",
   "execution_count": 16,
   "metadata": {},
   "outputs": [],
   "source": [
    "## Write a function that takes in an argument. \n",
    "## If argument is integer type, function should return Integer  type argument\n",
    "## If argument is a float type, function should return Float type argument\n",
    "## If argument is a string type, function should return String type argument\n",
    "## For all other inputs function should return Unknot type argument\n",
    "\n",
    "def argument(a):\n",
    "    if type(a) == int:\n",
    "        return 'Integer type argument'\n",
    "    elif type(a) == float:\n",
    "        return 'Float type argument'\n",
    "    elif type(a) == str:\n",
    "        return 'String type argement'\n",
    "    else:\n",
    "        return 'Unknown type argument'"
   ]
  },
  {
   "cell_type": "code",
   "execution_count": 17,
   "metadata": {},
   "outputs": [
    {
     "data": {
      "text/plain": [
       "'Float type argument'"
      ]
     },
     "execution_count": 17,
     "metadata": {},
     "output_type": "execute_result"
    }
   ],
   "source": [
    "argument (20.5)"
   ]
  },
  {
   "cell_type": "code",
   "execution_count": 18,
   "metadata": {},
   "outputs": [
    {
     "data": {
      "text/plain": [
       "'Integer type argument'"
      ]
     },
     "execution_count": 18,
     "metadata": {},
     "output_type": "execute_result"
    }
   ],
   "source": [
    "argument(30)"
   ]
  },
  {
   "cell_type": "code",
   "execution_count": 19,
   "metadata": {},
   "outputs": [
    {
     "data": {
      "text/plain": [
       "'String type argement'"
      ]
     },
     "execution_count": 19,
     "metadata": {},
     "output_type": "execute_result"
    }
   ],
   "source": [
    "argument('30')"
   ]
  },
  {
   "cell_type": "code",
   "execution_count": 20,
   "metadata": {},
   "outputs": [
    {
     "data": {
      "text/plain": [
       "'Unknown type argument'"
      ]
     },
     "execution_count": 20,
     "metadata": {},
     "output_type": "execute_result"
    }
   ],
   "source": [
    "argument({'k1':3})"
   ]
  },
  {
   "cell_type": "code",
   "execution_count": 8,
   "metadata": {},
   "outputs": [],
   "source": [
    "## Write a function that accepts following dict argument:\n",
    "## fresh_produce = {\n",
    "##        \"apple\": \"red\",\n",
    "##  \"grapes\": \"black\",\n",
    "##  \"avocado\": \"green\",\n",
    "##  \"pineapple\": \"golden\",\n",
    "##  \"peach\": \"coral\"\n",
    "## } \n",
    "## Print all keys of fresh_produce\n",
    "\n",
    "fresh_produce = {\"apple\": \"red\",\"grapes\": \"black\",  \"avocado\": \"green\", \"pineapple\": \"golden\", \"peach\": \"coral\" } \n",
    "\n",
    "#for key in fresh_produce.keys():\n",
    "    #return key\n",
    "\n",
    "def argument(fresh_produce):\n",
    "    for keys in fresh_produce.keys():\n",
    "        print (keys)\n",
    "\n"
   ]
  },
  {
   "cell_type": "code",
   "execution_count": 9,
   "metadata": {},
   "outputs": [
    {
     "name": "stdout",
     "output_type": "stream",
     "text": [
      "apple\n",
      "grapes\n",
      "avocado\n",
      "pineapple\n",
      "peach\n"
     ]
    }
   ],
   "source": [
    "argument(fresh_produce)"
   ]
  },
  {
   "cell_type": "code",
   "execution_count": 10,
   "metadata": {},
   "outputs": [],
   "source": [
    "## Write a function that accepts following dict argument:\n",
    "## fresh_produce = {\n",
    "##        \"apple\": \"red\",\n",
    "##  \"grapes\": \"black\",\n",
    "##  \"avocado\": \"green\",\n",
    "##  \"pineapple\": \"golden\",\n",
    "##  \"peach\": \"coral\"\n",
    "## } \n",
    "## Print all keys of fresh_produce\n",
    "\n",
    "fresh_produce = {\"apple\": \"red\",\"grapes\": \"black\",  \"avocado\": \"green\", \"pineapple\": \"golden\", \"peach\": \"coral\" } \n",
    "\n",
    "#for key in fresh_produce.keys():\n",
    "    #return key\n",
    "\n",
    "def argument(fresh_produce):\n",
    "    for values in fresh_produce.values():\n",
    "        print (values)"
   ]
  },
  {
   "cell_type": "code",
   "execution_count": 11,
   "metadata": {},
   "outputs": [
    {
     "name": "stdout",
     "output_type": "stream",
     "text": [
      "red\n",
      "black\n",
      "green\n",
      "golden\n",
      "coral\n"
     ]
    }
   ],
   "source": [
    "argument(fresh_produce)"
   ]
  },
  {
   "cell_type": "code",
   "execution_count": 28,
   "metadata": {},
   "outputs": [],
   "source": [
    "## Write a function that accepts following dict argument:\n",
    "fresh_produce = {\"apple\": \"red\",\"grapes\": \"black\",  \"avocado\": \"green\", \"pineapple\": \"golden\", \"peach\": \"coral\" } \n",
    "\n",
    "## Check if fresh_produce has mango as key\n",
    "\n",
    "def argument(fresh_produce):\n",
    "    if key in fresh_produce.items() == 'mango':\n",
    "        return keys\n",
    "    else:\n",
    "        return False\n",
    "        \n"
   ]
  },
  {
   "cell_type": "code",
   "execution_count": 29,
   "metadata": {},
   "outputs": [
    {
     "ename": "NameError",
     "evalue": "name 'key' is not defined",
     "output_type": "error",
     "traceback": [
      "\u001b[1;31m---------------------------------------------------------------------------\u001b[0m",
      "\u001b[1;31mNameError\u001b[0m                                 Traceback (most recent call last)",
      "\u001b[1;32m<ipython-input-29-72a0d54dd168>\u001b[0m in \u001b[0;36m<module>\u001b[1;34m\u001b[0m\n\u001b[1;32m----> 1\u001b[1;33m \u001b[0margument\u001b[0m\u001b[1;33m(\u001b[0m\u001b[0mfresh_produce\u001b[0m\u001b[1;33m)\u001b[0m\u001b[1;33m\u001b[0m\u001b[1;33m\u001b[0m\u001b[0m\n\u001b[0m",
      "\u001b[1;32m<ipython-input-28-c42bd05fa101>\u001b[0m in \u001b[0;36margument\u001b[1;34m(fresh_produce)\u001b[0m\n\u001b[0;32m      5\u001b[0m \u001b[1;33m\u001b[0m\u001b[0m\n\u001b[0;32m      6\u001b[0m \u001b[1;32mdef\u001b[0m \u001b[0margument\u001b[0m\u001b[1;33m(\u001b[0m\u001b[0mfresh_produce\u001b[0m\u001b[1;33m)\u001b[0m\u001b[1;33m:\u001b[0m\u001b[1;33m\u001b[0m\u001b[1;33m\u001b[0m\u001b[0m\n\u001b[1;32m----> 7\u001b[1;33m     \u001b[1;32mif\u001b[0m \u001b[0mkey\u001b[0m \u001b[1;32min\u001b[0m \u001b[0mfresh_produce\u001b[0m\u001b[1;33m.\u001b[0m\u001b[0mitems\u001b[0m\u001b[1;33m(\u001b[0m\u001b[1;33m)\u001b[0m \u001b[1;33m==\u001b[0m \u001b[1;34m'mango'\u001b[0m\u001b[1;33m:\u001b[0m\u001b[1;33m\u001b[0m\u001b[1;33m\u001b[0m\u001b[0m\n\u001b[0m\u001b[0;32m      8\u001b[0m         \u001b[1;32mreturn\u001b[0m \u001b[0mkeys\u001b[0m\u001b[1;33m\u001b[0m\u001b[1;33m\u001b[0m\u001b[0m\n\u001b[0;32m      9\u001b[0m     \u001b[1;32melse\u001b[0m\u001b[1;33m:\u001b[0m\u001b[1;33m\u001b[0m\u001b[1;33m\u001b[0m\u001b[0m\n",
      "\u001b[1;31mNameError\u001b[0m: name 'key' is not defined"
     ]
    }
   ],
   "source": [
    "argument(fresh_produce)"
   ]
  },
  {
   "cell_type": "code",
   "execution_count": null,
   "metadata": {},
   "outputs": [],
   "source": []
  }
 ],
 "metadata": {
  "kernelspec": {
   "display_name": "Python 3",
   "language": "python",
   "name": "python3"
  },
  "language_info": {
   "codemirror_mode": {
    "name": "ipython",
    "version": 3
   },
   "file_extension": ".py",
   "mimetype": "text/x-python",
   "name": "python",
   "nbconvert_exporter": "python",
   "pygments_lexer": "ipython3",
   "version": "3.8.5"
  }
 },
 "nbformat": 4,
 "nbformat_minor": 4
}
