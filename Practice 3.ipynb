{
 "cells": [
  {
   "cell_type": "code",
   "execution_count": 1,
   "metadata": {},
   "outputs": [],
   "source": [
    "## Write a function that takes a color as an argument. \n",
    "## If color if red, function should print Today’s winner is red team\n",
    "## If color if blue, function should print Today’s winner is blue team\n",
    "## If color if green, function should print Today’s winner is green team\n",
    "## For any other colors, function should print No game today\n",
    "\n",
    "\n",
    "def argument(color):\n",
    "    if color == 'red':\n",
    "        print('Today’s winner is red team')\n",
    "    elif color =='blue':\n",
    "        print('Today’s winner is blue team')\n",
    "    elif color == 'green':\n",
    "        print('Today’s winner is green team')\n",
    "    else:\n",
    "        print('No game today')\n",
    "\n",
    "\n",
    "\n",
    "        "
   ]
  },
  {
   "cell_type": "code",
   "execution_count": 3,
   "metadata": {},
   "outputs": [
    {
     "name": "stdout",
     "output_type": "stream",
     "text": [
      "Today’s winner is green team\n"
     ]
    }
   ],
   "source": [
    "argument('green')"
   ]
  },
  {
   "cell_type": "code",
   "execution_count": 16,
   "metadata": {},
   "outputs": [],
   "source": [
    "## Write a function that takes in an argument. \n",
    "## If argument is integer type, function should return Integer  type argument\n",
    "## If argument is a float type, function should return Float type argument\n",
    "## If argument is a string type, function should return String type argument\n",
    "## For all other inputs function should return Unknot type argument\n",
    "\n",
    "def argument(a):\n",
    "    if type(a) == int:\n",
    "        return 'Integer type argument'\n",
    "    elif type(a) == float:\n",
    "        return 'Float type argument'\n",
    "    elif type(a) == str:\n",
    "        return 'String type argement'\n",
    "    else:\n",
    "        return 'Unknown type argument'"
   ]
  },
  {
   "cell_type": "code",
   "execution_count": 17,
   "metadata": {},
   "outputs": [
    {
     "data": {
      "text/plain": [
       "'Float type argument'"
      ]
     },
     "execution_count": 17,
     "metadata": {},
     "output_type": "execute_result"
    }
   ],
   "source": [
    "argument (20.5)"
   ]
  },
  {
   "cell_type": "code",
   "execution_count": 18,
   "metadata": {},
   "outputs": [
    {
     "data": {
      "text/plain": [
       "'Integer type argument'"
      ]
     },
     "execution_count": 18,
     "metadata": {},
     "output_type": "execute_result"
    }
   ],
   "source": [
    "argument(30)"
   ]
  },
  {
   "cell_type": "code",
   "execution_count": 19,
   "metadata": {},
   "outputs": [
    {
     "data": {
      "text/plain": [
       "'String type argement'"
      ]
     },
     "execution_count": 19,
     "metadata": {},
     "output_type": "execute_result"
    }
   ],
   "source": [
    "argument('30')"
   ]
  },
  {
   "cell_type": "code",
   "execution_count": 20,
   "metadata": {},
   "outputs": [
    {
     "data": {
      "text/plain": [
       "'Unknown type argument'"
      ]
     },
     "execution_count": 20,
     "metadata": {},
     "output_type": "execute_result"
    }
   ],
   "source": [
    "argument({'k1':3})"
   ]
  },
  {
   "cell_type": "code",
   "execution_count": 8,
   "metadata": {},
   "outputs": [],
   "source": [
    "## Write a function that accepts following dict argument:\n",
    "## fresh_produce = {\n",
    "##        \"apple\": \"red\",\n",
    "##  \"grapes\": \"black\",\n",
    "##  \"avocado\": \"green\",\n",
    "##  \"pineapple\": \"golden\",\n",
    "##  \"peach\": \"coral\"\n",
    "## } \n",
    "## Print all keys of fresh_produce\n",
    "\n",
    "fresh_produce = {\"apple\": \"red\",\"grapes\": \"black\",  \"avocado\": \"green\", \"pineapple\": \"golden\", \"peach\": \"coral\" } \n",
    "\n",
    "#for key in fresh_produce.keys():\n",
    "    #return key\n",
    "\n",
    "def argument(fresh_produce):\n",
    "    for keys in fresh_produce.keys():\n",
    "        print (keys)\n",
    "\n"
   ]
  },
  {
   "cell_type": "code",
   "execution_count": 9,
   "metadata": {},
   "outputs": [
    {
     "name": "stdout",
     "output_type": "stream",
     "text": [
      "apple\n",
      "grapes\n",
      "avocado\n",
      "pineapple\n",
      "peach\n"
     ]
    }
   ],
   "source": [
    "argument(fresh_produce)"
   ]
  },
  {
   "cell_type": "code",
   "execution_count": 10,
   "metadata": {},
   "outputs": [],
   "source": [
    "## Write a function that accepts following dict argument:\n",
    "## fresh_produce = {\n",
    "##        \"apple\": \"red\",\n",
    "##  \"grapes\": \"black\",\n",
    "##  \"avocado\": \"green\",\n",
    "##  \"pineapple\": \"golden\",\n",
    "##  \"peach\": \"coral\"\n",
    "## } \n",
    "## Print all keys of fresh_produce\n",
    "\n",
    "fresh_produce = {\"apple\": \"red\",\"grapes\": \"black\",  \"avocado\": \"green\", \"pineapple\": \"golden\", \"peach\": \"coral\" } \n",
    "\n",
    "#for key in fresh_produce.keys():\n",
    "    #return key\n",
    "\n",
    "def argument(fresh_produce):\n",
    "    for values in fresh_produce.values():\n",
    "        print (values)"
   ]
  },
  {
   "cell_type": "code",
   "execution_count": 11,
   "metadata": {},
   "outputs": [
    {
     "name": "stdout",
     "output_type": "stream",
     "text": [
      "red\n",
      "black\n",
      "green\n",
      "golden\n",
      "coral\n"
     ]
    }
   ],
   "source": [
    "argument(fresh_produce)"
   ]
  },
  {
   "cell_type": "code",
   "execution_count": 23,
   "metadata": {},
   "outputs": [],
   "source": [
    "## Write a function that accepts following dict argument:\n",
    "fresh_produce = {\"apple\": \"red\",\"grapes\": \"black\",  \"avocado\": \"green\", \"pineapple\": \"golden\", \"peach\": \"coral\" } \n",
    "\n",
    "## Check if fresh_produce has mango as key\n",
    "\n",
    "def argument(fresh_produce):\n",
    "    if 'mango' in fresh_produce.keys():\n",
    "        return True\n",
    "    return False\n",
    "        \n"
   ]
  },
  {
   "cell_type": "code",
   "execution_count": 24,
   "metadata": {},
   "outputs": [
    {
     "data": {
      "text/plain": [
       "False"
      ]
     },
     "execution_count": 24,
     "metadata": {},
     "output_type": "execute_result"
    }
   ],
   "source": [
    "argument(fresh_produce)"
   ]
  },
  {
   "cell_type": "code",
   "execution_count": 25,
   "metadata": {},
   "outputs": [],
   "source": [
    "## Write a function that accepts following dict argument:\n",
    "fresh_produce = {\"apple\": \"red\", \"grapes\": \"black\", \"avocado\": \"green\", \"pineapple\": \"golden\", \"peach\": \"coral\"} \n",
    "\n",
    "## Check if fresh_produce has golden as value\n",
    "\n",
    "def dict_arg(fresh_produce):\n",
    "    if 'golden' in fresh_produce.values():\n",
    "        return True\n",
    "    return False\n",
    "    "
   ]
  },
  {
   "cell_type": "code",
   "execution_count": 26,
   "metadata": {},
   "outputs": [
    {
     "data": {
      "text/plain": [
       "True"
      ]
     },
     "execution_count": 26,
     "metadata": {},
     "output_type": "execute_result"
    }
   ],
   "source": [
    "dict_arg(fresh_produce)"
   ]
  },
  {
   "cell_type": "code",
   "execution_count": 51,
   "metadata": {},
   "outputs": [],
   "source": [
    "## Write a function that accepts following dict argument:\n",
    "fresh_produce = {\"apple\": \"red\",\"grapes\": \"black\", \"avocado\": \"green\", \"pineapple\": \"golden\", \"peach\": \"coral\"} \n",
    "\n",
    "## Check if fresh_produce has gala in it.\n",
    "### Hint: Use logical operator\n",
    "\n",
    "def dict_arg(fresh_produce):\n",
    "    if ('gala' in fresh_produce.keys()) or ('gala' in fresh_produce.values()):\n",
    "        return True\n",
    "    return False"
   ]
  },
  {
   "cell_type": "code",
   "execution_count": 52,
   "metadata": {},
   "outputs": [
    {
     "data": {
      "text/plain": [
       "False"
      ]
     },
     "execution_count": 52,
     "metadata": {},
     "output_type": "execute_result"
    }
   ],
   "source": [
    "dict_arg(fresh_produce)"
   ]
  },
  {
   "cell_type": "code",
   "execution_count": null,
   "metadata": {},
   "outputs": [],
   "source": []
  }
 ],
 "metadata": {
  "kernelspec": {
   "display_name": "Python 3",
   "language": "python",
   "name": "python3"
  },
  "language_info": {
   "codemirror_mode": {
    "name": "ipython",
    "version": 3
   },
   "file_extension": ".py",
   "mimetype": "text/x-python",
   "name": "python",
   "nbconvert_exporter": "python",
   "pygments_lexer": "ipython3",
   "version": "3.8.5"
  }
 },
 "nbformat": 4,
 "nbformat_minor": 4
}
